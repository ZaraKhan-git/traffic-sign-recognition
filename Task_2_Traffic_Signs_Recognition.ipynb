{
  "nbformat": 4,
  "nbformat_minor": 0,
  "metadata": {
    "colab": {
      "provenance": []
    },
    "kernelspec": {
      "name": "python3",
      "display_name": "Python 3"
    },
    "language_info": {
      "name": "python"
    }
  },
  "cells": [
    {
      "cell_type": "code",
      "source": [
        "!pip install kagglehub"
      ],
      "metadata": {
        "colab": {
          "base_uri": "https://localhost:8080/"
        },
        "id": "DfayL1UkiBdh",
        "outputId": "450fb162-e072-46d4-9dc3-42ef5cd7faa4"
      },
      "execution_count": 15,
      "outputs": [
        {
          "output_type": "stream",
          "name": "stdout",
          "text": [
            "Requirement already satisfied: kagglehub in /usr/local/lib/python3.11/dist-packages (0.3.12)\n",
            "Requirement already satisfied: packaging in /usr/local/lib/python3.11/dist-packages (from kagglehub) (25.0)\n",
            "Requirement already satisfied: pyyaml in /usr/local/lib/python3.11/dist-packages (from kagglehub) (6.0.2)\n",
            "Requirement already satisfied: requests in /usr/local/lib/python3.11/dist-packages (from kagglehub) (2.32.3)\n",
            "Requirement already satisfied: tqdm in /usr/local/lib/python3.11/dist-packages (from kagglehub) (4.67.1)\n",
            "Requirement already satisfied: charset-normalizer<4,>=2 in /usr/local/lib/python3.11/dist-packages (from requests->kagglehub) (3.4.2)\n",
            "Requirement already satisfied: idna<4,>=2.5 in /usr/local/lib/python3.11/dist-packages (from requests->kagglehub) (3.10)\n",
            "Requirement already satisfied: urllib3<3,>=1.21.1 in /usr/local/lib/python3.11/dist-packages (from requests->kagglehub) (2.5.0)\n",
            "Requirement already satisfied: certifi>=2017.4.17 in /usr/local/lib/python3.11/dist-packages (from requests->kagglehub) (2025.7.14)\n"
          ]
        }
      ]
    },
    {
      "cell_type": "code",
      "source": [
        "import kagglehub\n",
        "\n",
        "path = kagglehub.dataset_download(\"valentynsichkar/traffic-signs-preprocessed\")\n",
        "\n",
        "print(\"✅ Dataset downloaded to:\", path)"
      ],
      "metadata": {
        "colab": {
          "base_uri": "https://localhost:8080/"
        },
        "id": "ulmem8kliE4A",
        "outputId": "873a8b9f-f8f2-4167-cf13-cedd768cdec6"
      },
      "execution_count": 16,
      "outputs": [
        {
          "output_type": "stream",
          "name": "stdout",
          "text": [
            "✅ Dataset downloaded to: /kaggle/input/traffic-signs-preprocessed\n"
          ]
        }
      ]
    },
    {
      "cell_type": "code",
      "source": [
        "import os\n",
        "for root, dirs, files in os.walk(path):\n",
        "    print(\"📁\", root)\n",
        "    for d in dirs:\n",
        "        print(\"   └── (dir)\", d)\n",
        "    for f in files[:5]:\n",
        "        print(\"   └── (file)\", f)\n"
      ],
      "metadata": {
        "colab": {
          "base_uri": "https://localhost:8080/"
        },
        "id": "ZUBWSUltiN2W",
        "outputId": "0a91b662-fdcc-4260-8358-ce8f2ce0bf99"
      },
      "execution_count": 17,
      "outputs": [
        {
          "output_type": "stream",
          "name": "stdout",
          "text": [
            "📁 /kaggle/input/traffic-signs-preprocessed\n",
            "   └── (file) mean_image_rgb.pickle\n",
            "   └── (file) data5.pickle\n",
            "   └── (file) data4.pickle\n",
            "   └── (file) data7.pickle\n",
            "   └── (file) data8.pickle\n"
          ]
        }
      ]
    },
    {
      "cell_type": "code",
      "source": [
        "import pickle\n",
        "import os\n",
        "\n",
        "dataset_path = '/kaggle/input/traffic-signs-preprocessed'\n",
        "\n",
        "with open(os.path.join(dataset_path, 'data5.pickle'), 'rb') as f:\n",
        "    data = pickle.load(f)\n",
        "\n",
        "print(\"✅ Loaded successfully\")\n",
        "print(\"📦 Type of data:\", type(data))\n",
        "print(\"🔑 Keys in data:\", data.keys())\n"
      ],
      "metadata": {
        "colab": {
          "base_uri": "https://localhost:8080/"
        },
        "id": "6Psa_MAPinZU",
        "outputId": "21a5d73a-96ec-47bf-8dac-8fe7ff188d7c"
      },
      "execution_count": 19,
      "outputs": [
        {
          "output_type": "stream",
          "name": "stdout",
          "text": [
            "✅ Loaded successfully\n",
            "📦 Type of data: <class 'dict'>\n",
            "🔑 Keys in data: dict_keys(['x_test', 'y_test', 'x_train', 'y_train', 'x_validation', 'y_validation', 'labels'])\n"
          ]
        }
      ]
    },
    {
      "cell_type": "code",
      "source": [
        "import numpy as np\n",
        "from tensorflow.keras.utils import to_categorical\n",
        "\n",
        "X_train = data['x_train'] / 255.0\n",
        "X_test = data['x_test'] / 255.0\n",
        "X_val = data['x_validation'] / 255.0\n",
        "\n",
        "y_train = to_categorical(data['y_train'])\n",
        "y_test = to_categorical(data['y_test'])\n",
        "y_val = to_categorical(data['y_validation'])\n",
        "\n",
        "num_classes = y_train.shape[1]\n",
        "\n",
        "print(\"✅ Training set:\", X_train.shape)\n",
        "print(\"✅ Validation set:\", X_val.shape)\n",
        "print(\"✅ Test set:\", X_test.shape)"
      ],
      "metadata": {
        "colab": {
          "base_uri": "https://localhost:8080/"
        },
        "id": "Rnffks-xjrme",
        "outputId": "eb69e122-fc42-4063-d92c-ae3018461336"
      },
      "execution_count": 20,
      "outputs": [
        {
          "output_type": "stream",
          "name": "stdout",
          "text": [
            "✅ Training set: (86989, 1, 32, 32)\n",
            "✅ Validation set: (4410, 1, 32, 32)\n",
            "✅ Test set: (12630, 1, 32, 32)\n"
          ]
        }
      ]
    },
    {
      "cell_type": "code",
      "source": [
        "X_train = X_train.transpose(0, 2, 3, 1)\n",
        "X_test = X_test.transpose(0, 2, 3, 1)\n",
        "X_val = X_val.transpose(0, 2, 3, 1)\n",
        "\n",
        "print(\"✅ New X_train shape:\", X_train.shape)\n"
      ],
      "metadata": {
        "colab": {
          "base_uri": "https://localhost:8080/"
        },
        "id": "aQMUnjpHkSfK",
        "outputId": "2add73ef-c046-463c-b68d-3b20b08efee9"
      },
      "execution_count": 22,
      "outputs": [
        {
          "output_type": "stream",
          "name": "stdout",
          "text": [
            "✅ New X_train shape: (86989, 32, 32, 1)\n"
          ]
        }
      ]
    },
    {
      "cell_type": "code",
      "source": [
        "from tensorflow.keras.models import Sequential\n",
        "from tensorflow.keras.layers import Input, Conv2D, MaxPooling2D, Flatten, Dense, Dropout\n",
        "from tensorflow.keras.optimizers import Adam\n",
        "\n",
        "model = Sequential([\n",
        "    Input(shape=X_train.shape[1:]),\n",
        "    Conv2D(32, (3, 3), activation='relu'),\n",
        "    MaxPooling2D(2, 2),\n",
        "    Conv2D(64, (3, 3), activation='relu'),\n",
        "    MaxPooling2D(2, 2),\n",
        "    Conv2D(128, (3, 3), activation='relu'),\n",
        "    MaxPooling2D(2, 2),\n",
        "    Flatten(),\n",
        "    Dense(256, activation='relu'),\n",
        "    Dropout(0.5),\n",
        "    Dense(num_classes, activation='softmax')\n",
        "])"
      ],
      "metadata": {
        "id": "MGljP3VJkUea"
      },
      "execution_count": 23,
      "outputs": []
    },
    {
      "cell_type": "code",
      "source": [
        "model.compile(optimizer=Adam(learning_rate=0.001),\n",
        "              loss='categorical_crossentropy',\n",
        "              metrics=['accuracy'])\n",
        "\n",
        "history = model.fit(X_train, y_train,\n",
        "                    epochs=10,\n",
        "                    validation_data=(X_val, y_val))"
      ],
      "metadata": {
        "colab": {
          "base_uri": "https://localhost:8080/"
        },
        "id": "5ks99Ym0khrB",
        "outputId": "0a82ec7b-b063-4a2e-d233-aefa0a401a7a"
      },
      "execution_count": 24,
      "outputs": [
        {
          "output_type": "stream",
          "name": "stdout",
          "text": [
            "Epoch 1/10\n",
            "\u001b[1m2719/2719\u001b[0m \u001b[32m━━━━━━━━━━━━━━━━━━━━\u001b[0m\u001b[37m\u001b[0m \u001b[1m124s\u001b[0m 45ms/step - accuracy: 0.5823 - loss: 1.5506 - val_accuracy: 0.9603 - val_loss: 0.1365\n",
            "Epoch 2/10\n",
            "\u001b[1m2719/2719\u001b[0m \u001b[32m━━━━━━━━━━━━━━━━━━━━\u001b[0m\u001b[37m\u001b[0m \u001b[1m139s\u001b[0m 44ms/step - accuracy: 0.9621 - loss: 0.1314 - val_accuracy: 0.9800 - val_loss: 0.0680\n",
            "Epoch 3/10\n",
            "\u001b[1m2719/2719\u001b[0m \u001b[32m━━━━━━━━━━━━━━━━━━━━\u001b[0m\u001b[37m\u001b[0m \u001b[1m140s\u001b[0m 43ms/step - accuracy: 0.9772 - loss: 0.0739 - val_accuracy: 0.9846 - val_loss: 0.0623\n",
            "Epoch 4/10\n",
            "\u001b[1m2719/2719\u001b[0m \u001b[32m━━━━━━━━━━━━━━━━━━━━\u001b[0m\u001b[37m\u001b[0m \u001b[1m118s\u001b[0m 43ms/step - accuracy: 0.9847 - loss: 0.0518 - val_accuracy: 0.9769 - val_loss: 0.0978\n",
            "Epoch 5/10\n",
            "\u001b[1m2719/2719\u001b[0m \u001b[32m━━━━━━━━━━━━━━━━━━━━\u001b[0m\u001b[37m\u001b[0m \u001b[1m139s\u001b[0m 42ms/step - accuracy: 0.9880 - loss: 0.0414 - val_accuracy: 0.9844 - val_loss: 0.0744\n",
            "Epoch 6/10\n",
            "\u001b[1m2719/2719\u001b[0m \u001b[32m━━━━━━━━━━━━━━━━━━━━\u001b[0m\u001b[37m\u001b[0m \u001b[1m145s\u001b[0m 43ms/step - accuracy: 0.9885 - loss: 0.0365 - val_accuracy: 0.9889 - val_loss: 0.0521\n",
            "Epoch 7/10\n",
            "\u001b[1m2719/2719\u001b[0m \u001b[32m━━━━━━━━━━━━━━━━━━━━\u001b[0m\u001b[37m\u001b[0m \u001b[1m140s\u001b[0m 42ms/step - accuracy: 0.9913 - loss: 0.0285 - val_accuracy: 0.9857 - val_loss: 0.0736\n",
            "Epoch 8/10\n",
            "\u001b[1m2719/2719\u001b[0m \u001b[32m━━━━━━━━━━━━━━━━━━━━\u001b[0m\u001b[37m\u001b[0m \u001b[1m140s\u001b[0m 42ms/step - accuracy: 0.9907 - loss: 0.0307 - val_accuracy: 0.9889 - val_loss: 0.0563\n",
            "Epoch 9/10\n",
            "\u001b[1m2719/2719\u001b[0m \u001b[32m━━━━━━━━━━━━━━━━━━━━\u001b[0m\u001b[37m\u001b[0m \u001b[1m142s\u001b[0m 42ms/step - accuracy: 0.9930 - loss: 0.0220 - val_accuracy: 0.9862 - val_loss: 0.0753\n",
            "Epoch 10/10\n",
            "\u001b[1m2719/2719\u001b[0m \u001b[32m━━━━━━━━━━━━━━━━━━━━\u001b[0m\u001b[37m\u001b[0m \u001b[1m147s\u001b[0m 44ms/step - accuracy: 0.9929 - loss: 0.0234 - val_accuracy: 0.9834 - val_loss: 0.0950\n"
          ]
        }
      ]
    },
    {
      "cell_type": "code",
      "source": [
        "loss, acc = model.evaluate(X_test, y_test)\n",
        "print(f\"Final Test Accuracy: {acc * 100:.2f}%\")\n"
      ],
      "metadata": {
        "colab": {
          "base_uri": "https://localhost:8080/"
        },
        "id": "l3bAb79Fpxbb",
        "outputId": "e26f5a41-2e16-4f50-e208-fcd684861116"
      },
      "execution_count": 25,
      "outputs": [
        {
          "output_type": "stream",
          "name": "stdout",
          "text": [
            "\u001b[1m395/395\u001b[0m \u001b[32m━━━━━━━━━━━━━━━━━━━━\u001b[0m\u001b[37m\u001b[0m \u001b[1m6s\u001b[0m 15ms/step - accuracy: 0.9621 - loss: 0.2366\n",
            "Final Test Accuracy: 96.47%\n"
          ]
        }
      ]
    },
    {
      "cell_type": "code",
      "source": [
        "import matplotlib.pyplot as plt\n",
        "import random\n",
        "import numpy as np\n",
        "\n",
        "index = random.randint(0, len(X_test) - 1)\n",
        "sample = X_test[index]\n",
        "true_label = np.argmax(y_test[index])\n",
        "\n",
        "prediction = model.predict(np.expand_dims(sample, axis=0))\n",
        "predicted_label = np.argmax(prediction)\n",
        "\n",
        "plt.imshow(sample.squeeze())\n",
        "plt.axis('off')\n",
        "plt.title(f\"True: {true_label}, Predicted: {predicted_label}\")\n",
        "plt.show()"
      ],
      "metadata": {
        "colab": {
          "base_uri": "https://localhost:8080/",
          "height": 445
        },
        "id": "T9FR_Zy2p9Z1",
        "outputId": "59b6520c-5254-4eea-b51a-ca38fa38ca43"
      },
      "execution_count": 26,
      "outputs": [
        {
          "output_type": "stream",
          "name": "stdout",
          "text": [
            "\u001b[1m1/1\u001b[0m \u001b[32m━━━━━━━━━━━━━━━━━━━━\u001b[0m\u001b[37m\u001b[0m \u001b[1m0s\u001b[0m 142ms/step\n"
          ]
        },
        {
          "output_type": "display_data",
          "data": {
            "text/plain": [
              "<Figure size 640x480 with 1 Axes>"
            ],
            "image/png": "[encoded data removed]"
          },
          "metadata": {}
        }
      ]
    }
  ]
}